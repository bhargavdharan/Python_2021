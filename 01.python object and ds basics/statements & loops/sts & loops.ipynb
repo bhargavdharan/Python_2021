{
 "cells": [
  {
   "cell_type": "markdown",
   "metadata": {},
   "source": [
    "# Statements & loops in Python"
   ]
  },
  {
   "cell_type": "markdown",
   "metadata": {},
   "source": [
    "# Statements"
   ]
  },
  {
   "cell_type": "markdown",
   "metadata": {},
   "source": [
    "## If statement\n",
    "### Syntax - if condition:\n",
    "            #statements to execute if\n",
    "            #condition is true"
   ]
  },
  {
   "cell_type": "code",
   "execution_count": 1,
   "metadata": {},
   "outputs": [
    {
     "name": "stdout",
     "output_type": "stream",
     "text": [
      "This is the outside of if block\n"
     ]
    }
   ],
   "source": [
    "a = 20\n",
    "if a > 50:\n",
    "    print('This is the if body')\n",
    "print('This is the outside of if block')"
   ]
  },
  {
   "cell_type": "markdown",
   "metadata": {},
   "source": [
    "## If else statement"
   ]
  },
  {
   "cell_type": "markdown",
   "metadata": {},
   "source": [
    "### Syntax - if(condition):\n",
    "        #Executes this block if\n",
    "        #Condition is true\n",
    "###          else:\n",
    "        #Executes this block if\n",
    "        #condition is false"
   ]
  },
  {
   "cell_type": "code",
   "execution_count": 2,
   "metadata": {},
   "outputs": [
    {
     "name": "stdout",
     "output_type": "stream",
     "text": [
      "This is the if block\n",
      "i is an even number\n"
     ]
    }
   ],
   "source": [
    "i = 20\n",
    "if i%2==0:\n",
    "    print('This is the if block')\n",
    "    print('i is an even number')\n",
    "else:\n",
    "    print('This is the else block')\n",
    "    print('i is an odd number')"
   ]
  },
  {
   "cell_type": "markdown",
   "metadata": {},
   "source": [
    "### Nesed-if statement"
   ]
  },
  {
   "cell_type": "markdown",
   "metadata": {},
   "source": [
    "#### Syntax"
   ]
  },
  {
   "cell_type": "markdown",
   "metadata": {},
   "source": [
    "#### if(condition):\n",
    "####    #Execute if condition1 is true\n",
    "####    if(condition2):\n",
    "####        #Execute if condition2 is true\n",
    "####    #condition2 ends here\n",
    "#### #cnndition1 ends here"
   ]
  },
  {
   "cell_type": "code",
   "execution_count": 4,
   "metadata": {},
   "outputs": [
    {
     "name": "stdout",
     "output_type": "stream",
     "text": [
      "c is true\n",
      "c is an odd number less than 25\n"
     ]
    }
   ],
   "source": [
    "c = 21\n",
    "if (c<25):\n",
    "    print(\"c is true\")\n",
    "    if(c%2==0):\n",
    "        print(\"c is an even number less than 25\")\n",
    "    else:\n",
    "        print(\"c is an odd number less than 25\")\n",
    "else:\n",
    "    print(\"c is greater than 25\")"
   ]
  },
  {
   "cell_type": "markdown",
   "metadata": {},
   "source": [
    "### if-elseif-else statement"
   ]
  },
  {
   "cell_type": "code",
   "execution_count": null,
   "metadata": {},
   "outputs": [],
   "source": [
    "\n",
    "    "
   ]
  },
  {
   "cell_type": "code",
   "execution_count": 15,
   "metadata": {},
   "outputs": [
    {
     "name": "stdout",
     "output_type": "stream",
     "text": [
      "This is body of else\n",
      "This is consonant\n"
     ]
    }
   ],
   "source": [
    "var = 'z'\n",
    "if(var=='a'):\n",
    "    print(\"This is body of if\")\n",
    "    print(\"This is a vowel a\")\n",
    "elif var=='e':\n",
    "    print(\"This is body of elif\")\n",
    "    print(\"This is a vowel e\")\n",
    "elif var=='i':\n",
    "    print(\"This is body of elif\")\n",
    "    print(\"This is a vowel i\")   \n",
    "elif(var=='o'):\n",
    "    print(\"This is body of if\")\n",
    "    print(\"This is a vowel o\") \n",
    "elif(var=='u'):\n",
    "    print(\"This is body of if\")\n",
    "    print(\"This is a vowel u\")\n",
    "else:\n",
    "    print('This is body of else')\n",
    "    print('This is consonant')"
   ]
  },
  {
   "cell_type": "markdown",
   "metadata": {},
   "source": [
    "# What are Loops?\n",
    "## Ex: Siri wants to print his name 10times\n",
    "## A loop is an instruction that repeats multiple times as long as condition is met.\n",
    "#### <---- types of loops ---->\n",
    "##### 1.while-loop\n",
    "##### 2.for-loop\n",
    "##### 3.nested-loop"
   ]
  },
  {
   "cell_type": "markdown",
   "metadata": {},
   "source": [
    "## While loop"
   ]
  },
  {
   "cell_type": "markdown",
   "metadata": {},
   "source": [
    "#### The while loop is used to repeat a section of code an unknown number of times until specific condition is true"
   ]
  },
  {
   "cell_type": "markdown",
   "metadata": {},
   "source": [
    "#### syntax:\n",
    "#### while(expression):\n",
    "####      statements"
   ]
  },
  {
   "cell_type": "code",
   "execution_count": null,
   "metadata": {},
   "outputs": [],
   "source": [
    "val = int(input(\"Enter a multiple of 7:\"))\n",
    "while(val%7 != 0):\n",
    "    val = int(input(\"Enter a multiple of 7:\"))\n",
    "else:\n",
    "    print(\"%d this number is multiple of 7\" %val)"
   ]
  },
  {
   "cell_type": "markdown",
   "metadata": {},
   "source": [
    "## For loop"
   ]
  },
  {
   "cell_type": "markdown",
   "metadata": {},
   "source": [
    "### For loop is used to iterate over asequence, which could be alist, tuple, array or a string."
   ]
  },
  {
   "cell_type": "markdown",
   "metadata": {},
   "source": [
    "### check example in a folder called loops "
   ]
  },
  {
   "cell_type": "markdown",
   "metadata": {},
   "source": [
    "## Nested loops\n",
    "\n",
    "### python allows loops to be nested in loops.nested loops could be:\n",
    "#### for in for , while in while, for in while, while in for"
   ]
  },
  {
   "cell_type": "markdown",
   "metadata": {},
   "source": [
    "### check example in a folder called loops "
   ]
  },
  {
   "cell_type": "code",
   "execution_count": null,
   "metadata": {},
   "outputs": [],
   "source": []
  }
 ],
 "metadata": {
  "kernelspec": {
   "display_name": "Python 3",
   "language": "python",
   "name": "python3"
  },
  "language_info": {
   "codemirror_mode": {
    "name": "ipython",
    "version": 3
   },
   "file_extension": ".py",
   "mimetype": "text/x-python",
   "name": "python",
   "nbconvert_exporter": "python",
   "pygments_lexer": "ipython3",
   "version": "3.7.6"
  }
 },
 "nbformat": 4,
 "nbformat_minor": 4
}
